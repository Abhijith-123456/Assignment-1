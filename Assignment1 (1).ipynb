{
 "cells": [
  {
   "cell_type": "code",
   "execution_count": 8,
   "id": "5190d07f-e120-451e-9c8e-675a14890324",
   "metadata": {},
   "outputs": [
    {
     "name": "stdout",
     "output_type": "stream",
     "text": [
      "{'Name': ['Alice', 'Bob', 'Charlie', 'David', 'Eva'], 'Age': [25, 35, 67, 22, 45], 'City': ['New York', 'America', 'New York', 'India', 'New York']}\n"
     ]
    }
   ],
   "source": [
    "import pandas as pd\n",
    "data={\n",
    "    'Name':['Alice','Bob','Charlie','David','Eva'],\n",
    "    'Age':[25,35,67,22,45],\n",
    "    'City':['New York','America','New York','India','New York']\n",
    "} \n"
   ]
  },
  {
   "cell_type": "code",
   "execution_count": 14,
   "id": "931fe74a-c73a-41af-824c-907cc0fc89ba",
   "metadata": {},
   "outputs": [
    {
     "name": "stdout",
     "output_type": "stream",
     "text": [
      "      Name  Age      City\n",
      "0    Alice   25  New York\n",
      "1      Bob   35   America\n",
      "2  Charlie   67  New York\n",
      "3    David   22     India\n",
      "4      Eva   45  New York\n"
     ]
    }
   ],
   "source": [
    "df=pd.DataFrame(data)\n",
    "print(df)"
   ]
  },
  {
   "cell_type": "code",
   "execution_count": 22,
   "id": "70049b7e-e82c-408f-8303-9faba5f80bfb",
   "metadata": {},
   "outputs": [
    {
     "name": "stdout",
     "output_type": "stream",
     "text": [
      "0     Youth\n",
      "1     Adult\n",
      "2    Senior\n",
      "3     Youth\n",
      "4     Adult\n",
      "Name: Age group, dtype: object\n"
     ]
    }
   ],
   "source": [
    "def categorize_age(age):\n",
    "    if age <= 25:\n",
    "        return 'Youth'\n",
    "    elif 26 <= age <= 60:\n",
    "        return 'Adult'\n",
    "    else:\n",
    "        return 'Senior'\n",
    "df['Age group'] = df['Age'].apply(categorize_age)\n",
    "print(df['Age group'])"
   ]
  },
  {
   "cell_type": "code",
   "execution_count": 24,
   "id": "1dcb5d82-0c38-4e02-8db8-05c5d607f767",
   "metadata": {},
   "outputs": [
    {
     "name": "stdout",
     "output_type": "stream",
     "text": [
      "      Name  Age      City Age group\n",
      "0    Alice   25  New York     Youth\n",
      "2  Charlie   67  New York    Senior\n",
      "4      Eva   45  New York     Adult\n"
     ]
    }
   ],
   "source": [
    "cities=df[df['City'].isin(['New York'])]\n",
    "print(cities)"
   ]
  },
  {
   "cell_type": "code",
   "execution_count": null,
   "id": "7b9acf09-1bf4-4efb-a780-91c402a155ae",
   "metadata": {},
   "outputs": [],
   "source": []
  }
 ],
 "metadata": {
  "kernelspec": {
   "display_name": "Python 3 (ipykernel)",
   "language": "python",
   "name": "python3"
  },
  "language_info": {
   "codemirror_mode": {
    "name": "ipython",
    "version": 3
   },
   "file_extension": ".py",
   "mimetype": "text/x-python",
   "name": "python",
   "nbconvert_exporter": "python",
   "pygments_lexer": "ipython3",
   "version": "3.11.7"
  }
 },
 "nbformat": 4,
 "nbformat_minor": 5
}
